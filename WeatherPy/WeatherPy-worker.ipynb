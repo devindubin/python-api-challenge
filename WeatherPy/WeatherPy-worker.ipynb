{
 "cells": [
  {
   "cell_type": "markdown",
   "metadata": {},
   "source": [
    "# WeatherPy\n",
    "----\n",
    "\n",
    "#### Note\n",
    "* Instructions have been included for each segment. You do not have to follow them exactly, but they are included to help you think through the steps."
   ]
  },
  {
   "cell_type": "markdown",
   "metadata": {},
   "source": [
    "# Observable Trends\n",
    "- Cities closer to the equator have higher maximum temperatures.\n",
    "    - Supported by the known fact the middle latitudes receive increased duration of sunlight.\n",
    "- Cloud cover is independent of city latitude.\n",
    "- Humidity and latitude appear to be very loosly correlated, but of the cities selected a higher percentage had humidity % greater than 50%"
   ]
  },
  {
   "cell_type": "code",
   "execution_count": 1,
   "metadata": {
    "scrolled": true
   },
   "outputs": [],
   "source": [
    "from citipy import citipy\n",
    "import pandas as pd\n",
    "import matplotlib.pyplot as plt\n",
    "import requests\n",
    "from pprint import pprint\n",
    "from api_keys import weather_api_key\n",
    "from random import choice, random, seed\n",
    "import numpy as np\n",
    "import scipy.stats as sts\n",
    "from datetime import datetime\n",
    "city_name = ''\n",
    "base = 'api.openweathermap.org/data/2.5/weather?q={}&appid={}'.format(city_name,weather_api_key)\n"
   ]
  },
  {
   "cell_type": "markdown",
   "metadata": {},
   "source": [
    "## Generate Cities List"
   ]
  },
  {
   "cell_type": "code",
   "execution_count": 2,
   "metadata": {},
   "outputs": [
    {
     "data": {
      "text/html": [
       "<div>\n",
       "<style scoped>\n",
       "    .dataframe tbody tr th:only-of-type {\n",
       "        vertical-align: middle;\n",
       "    }\n",
       "\n",
       "    .dataframe tbody tr th {\n",
       "        vertical-align: top;\n",
       "    }\n",
       "\n",
       "    .dataframe thead th {\n",
       "        text-align: right;\n",
       "    }\n",
       "</style>\n",
       "<table border=\"1\" class=\"dataframe\">\n",
       "  <thead>\n",
       "    <tr style=\"text-align: right;\">\n",
       "      <th></th>\n",
       "      <th>nearest_city_name</th>\n",
       "      <th>nearest_country_code</th>\n",
       "      <th>lat</th>\n",
       "      <th>lg</th>\n",
       "    </tr>\n",
       "  </thead>\n",
       "  <tbody>\n",
       "    <tr>\n",
       "      <th>0</th>\n",
       "      <td>clyde river</td>\n",
       "      <td>ca</td>\n",
       "      <td>72.4</td>\n",
       "      <td>-82.0</td>\n",
       "    </tr>\n",
       "    <tr>\n",
       "      <th>1</th>\n",
       "      <td>saint-philippe</td>\n",
       "      <td>re</td>\n",
       "      <td>-32.3</td>\n",
       "      <td>60.0</td>\n",
       "    </tr>\n",
       "    <tr>\n",
       "      <th>2</th>\n",
       "      <td>east london</td>\n",
       "      <td>za</td>\n",
       "      <td>-42.6</td>\n",
       "      <td>35.0</td>\n",
       "    </tr>\n",
       "    <tr>\n",
       "      <th>3</th>\n",
       "      <td>puerto ayora</td>\n",
       "      <td>ec</td>\n",
       "      <td>-13.1</td>\n",
       "      <td>-110.0</td>\n",
       "    </tr>\n",
       "    <tr>\n",
       "      <th>4</th>\n",
       "      <td>bredasdorp</td>\n",
       "      <td>za</td>\n",
       "      <td>-44.9</td>\n",
       "      <td>22.9</td>\n",
       "    </tr>\n",
       "    <tr>\n",
       "      <th>...</th>\n",
       "      <td>...</td>\n",
       "      <td>...</td>\n",
       "      <td>...</td>\n",
       "      <td>...</td>\n",
       "    </tr>\n",
       "    <tr>\n",
       "      <th>987</th>\n",
       "      <td>tongchuan</td>\n",
       "      <td>cn</td>\n",
       "      <td>35.2</td>\n",
       "      <td>108.7</td>\n",
       "    </tr>\n",
       "    <tr>\n",
       "      <th>988</th>\n",
       "      <td>kisangani</td>\n",
       "      <td>cd</td>\n",
       "      <td>0.5</td>\n",
       "      <td>26.2</td>\n",
       "    </tr>\n",
       "    <tr>\n",
       "      <th>991</th>\n",
       "      <td>marti</td>\n",
       "      <td>cu</td>\n",
       "      <td>22.9</td>\n",
       "      <td>-81.0</td>\n",
       "    </tr>\n",
       "    <tr>\n",
       "      <th>997</th>\n",
       "      <td>presidente epitacio</td>\n",
       "      <td>br</td>\n",
       "      <td>-21.8</td>\n",
       "      <td>-52.1</td>\n",
       "    </tr>\n",
       "    <tr>\n",
       "      <th>998</th>\n",
       "      <td>rimbey</td>\n",
       "      <td>ca</td>\n",
       "      <td>52.7</td>\n",
       "      <td>-114.0</td>\n",
       "    </tr>\n",
       "  </tbody>\n",
       "</table>\n",
       "<p>561 rows × 4 columns</p>\n",
       "</div>"
      ],
      "text/plain": [
       "       nearest_city_name nearest_country_code   lat     lg\n",
       "0            clyde river                   ca  72.4  -82.0\n",
       "1         saint-philippe                   re -32.3   60.0\n",
       "2            east london                   za -42.6   35.0\n",
       "3           puerto ayora                   ec -13.1 -110.0\n",
       "4             bredasdorp                   za -44.9   22.9\n",
       "..                   ...                  ...   ...    ...\n",
       "987            tongchuan                   cn  35.2  108.7\n",
       "988            kisangani                   cd   0.5   26.2\n",
       "991                marti                   cu  22.9  -81.0\n",
       "997  presidente epitacio                   br -21.8  -52.1\n",
       "998               rimbey                   ca  52.7 -114.0\n",
       "\n",
       "[561 rows x 4 columns]"
      ]
     },
     "execution_count": 2,
     "metadata": {},
     "output_type": "execute_result"
    }
   ],
   "source": [
    "seed(40)\n",
    "# creates number range\n",
    "lats = np.arange(-55.0,85.0,.1)\n",
    "lon = np.arange(-180,180,.1)\n",
    "\n",
    "#randomly selects numbers from above range to create cooridnate pairs\n",
    "coords = []\n",
    "for i in range(1000):\n",
    "    coords.append([])\n",
    "    coords[i].append(choice(lats))\n",
    "    coords[i].append(choice(lon))\n",
    "\n",
    "#remove duplicate coordinates\n",
    "c_group = []\n",
    "for lat,lng in coords:\n",
    "    c_group.append((lat,lng))\n",
    "c_group = set(c_group)\n",
    "\n",
    "#locate cities from coords using citipy\n",
    "city_objects = []\n",
    "for lt, lg in c_group:\n",
    "    city_objects.append((((vars(citipy.nearest_city(lt,lg)).values())),lt,lg))\n",
    "cities_df = pd.DataFrame({\"nearest_city_name\" : [list(x)[0] for x in [values[0] for values in city_objects]],\n",
    "              'nearest_country_code' : [list(x)[1] for x in [values[0] for values in city_objects]],\n",
    "              'lat' : [values[1] for values in city_objects],\n",
    "              'lg':[values[2] for values in city_objects] })\n",
    "\n",
    "unique_cities = cities_df.drop_duplicates(subset = 'nearest_city_name')\n",
    "unique_cities[unique_cities.duplicated(subset='nearest_city_name')]\n",
    "unique_cities"
   ]
  },
  {
   "cell_type": "code",
   "execution_count": 3,
   "metadata": {},
   "outputs": [
    {
     "name": "stdout",
     "output_type": "stream",
     "text": [
      "Beginning Data Retrieval     \n",
      "-----------------------------\n",
      "        \n",
      "Processing record 0 | clyde river\n",
      "Processing record 1 | saint-philippe\n",
      "Processing record 2 | east london\n",
      "Processing record 3 | puerto ayora\n",
      "Processing record 4 | bredasdorp\n",
      "Processing record 5 | hilo\n",
      "Processing record 6 | avarua\n",
      "Processing record 7 | dekar\n",
      "Processing record 8 | provideniya\n",
      "Processing record 9 | cabo san lucas\n",
      "Processing record 10 | eyl\n",
      "Processing record 11 | longyan\n",
      "Processing record 12 | auki\n",
      "Processing record 13 | khonuu\n",
      "City Not Found\n",
      "Processing record 14 | kapaa\n",
      "Processing record 15 | krasnoselkup\n",
      "Processing record 16 | nikolskoye\n",
      "Processing record 17 | shcherbynivka\n",
      "Processing record 18 | nurota\n",
      "Processing record 19 | christchurch\n",
      "Processing record 20 | chuy\n",
      "Processing record 21 | jamestown\n",
      "Processing record 22 | bokoro\n",
      "Processing record 23 | ust-ilimsk\n",
      "Processing record 24 | hobart\n",
      "Processing record 25 | rikitea\n",
      "Processing record 26 | hithadhoo\n",
      "Processing record 27 | adrar\n",
      "Processing record 28 | iqaluit\n",
      "Processing record 29 | vaini\n",
      "Processing record 30 | guerrero negro\n",
      "Processing record 31 | mizdah\n",
      "Processing record 32 | tuktoyaktuk\n",
      "Processing record 33 | broome\n",
      "Processing record 34 | tapejara\n",
      "Processing record 35 | georgetown\n",
      "Processing record 36 | surt\n",
      "Processing record 37 | nguiu\n",
      "City Not Found\n",
      "Processing record 38 | ponta do sol\n",
      "Processing record 39 | galveston\n",
      "Processing record 40 | alugan\n",
      "Processing record 41 | bengkulu\n",
      "Processing record 42 | lebu\n",
      "Processing record 43 | ribeira grande\n",
      "Processing record 44 | yellowknife\n",
      "Processing record 45 | pacific grove\n",
      "Processing record 46 | carnarvon\n",
      "Processing record 47 | saleaula\n",
      "City Not Found\n",
      "Processing record 48 | luderitz\n",
      "Processing record 49 | porto santo\n",
      "Processing record 50 | ostrovnoy\n",
      "Processing record 51 | bethel\n",
      "Processing record 52 | puerto quijarro\n",
      "Processing record 53 | sinnamary\n",
      "Processing record 54 | visnes\n",
      "Processing record 55 | hongjiang\n",
      "Processing record 56 | paris\n",
      "Processing record 57 | del rio\n",
      "Processing record 58 | airai\n",
      "Processing record 59 | ruatoria\n",
      "City Not Found\n",
      "Processing record 60 | progreso\n",
      "Processing record 61 | barrow\n",
      "Processing record 62 | leningradskiy\n",
      "Processing record 63 | amderma\n",
      "City Not Found\n",
      "Processing record 64 | abu samrah\n",
      "Processing record 65 | port lincoln\n",
      "Processing record 66 | vao\n",
      "Processing record 67 | saint george\n",
      "Processing record 68 | arlit\n",
      "Processing record 69 | dongobesh\n",
      "Processing record 70 | tasiilaq\n",
      "Processing record 71 | tuatapere\n",
      "Processing record 72 | tiksi\n",
      "Processing record 73 | qaanaaq\n",
      "Processing record 74 | springbok\n",
      "Processing record 75 | puerto penasco\n",
      "Processing record 76 | whitehorse\n",
      "Processing record 77 | narasannapeta\n",
      "Processing record 78 | thunder bay\n",
      "Processing record 79 | fortuna\n",
      "Processing record 80 | pisco\n",
      "Processing record 81 | pizarro\n",
      "Processing record 82 | busselton\n",
      "Processing record 83 | illoqqortoormiut\n",
      "City Not Found\n",
      "Processing record 84 | havoysund\n",
      "Processing record 85 | makakilo city\n",
      "Processing record 86 | ancud\n",
      "Processing record 87 | victoria\n",
      "Processing record 88 | qaqortoq\n",
      "Processing record 89 | thompson\n",
      "Processing record 90 | vaitupu\n",
      "City Not Found\n",
      "Processing record 91 | saskylakh\n",
      "Processing record 92 | port augusta\n",
      "Processing record 93 | komsomolskiy\n",
      "Processing record 94 | aswan\n",
      "Processing record 95 | bandarbeyla\n",
      "Processing record 96 | ngukurr\n",
      "City Not Found\n",
      "Processing record 97 | dingle\n",
      "Processing record 98 | cape town\n",
      "Processing record 99 | bluff\n",
      "Processing record 100 | sompeta\n",
      "Processing record 101 | takoradi\n",
      "Processing record 102 | aiquile\n",
      "Processing record 103 | port alfred\n",
      "Processing record 104 | atuona\n",
      "Processing record 105 | santa isabel\n",
      "Processing record 106 | westport\n",
      "Processing record 107 | qasigiannguit\n",
      "Processing record 108 | riyadh\n",
      "Processing record 109 | sitka\n",
      "Processing record 110 | pyaozerskiy\n",
      "Processing record 111 | khatanga\n",
      "Processing record 112 | dikson\n",
      "Processing record 113 | tilichiki\n",
      "Processing record 114 | sentyabrskiy\n",
      "City Not Found\n",
      "Processing record 115 | bambous virieux\n",
      "Processing record 116 | new norfolk\n",
      "Processing record 117 | byron bay\n",
      "Processing record 118 | tafresh\n",
      "Processing record 119 | cherskiy\n",
      "Processing record 120 | labuhan\n",
      "Processing record 121 | syracuse\n",
      "Processing record 122 | arraial do cabo\n",
      "Processing record 123 | benjamin hill\n",
      "Processing record 124 | slave lake\n",
      "Processing record 125 | tsihombe\n",
      "City Not Found\n",
      "Processing record 126 | urla\n",
      "Processing record 127 | ilulissat\n",
      "Processing record 128 | tautira\n",
      "Processing record 129 | avera\n",
      "Processing record 130 | moose factory\n",
      "Processing record 131 | verkhnevilyuysk\n",
      "Processing record 132 | shambu\n",
      "Processing record 133 | safranbolu\n",
      "Processing record 134 | isangel\n",
      "Processing record 135 | castro\n",
      "Processing record 136 | kabanjahe\n",
      "Processing record 137 | talnakh\n",
      "Processing record 138 | srednekolymsk\n",
      "Processing record 139 | morro bay\n",
      "Processing record 140 | saldanha\n",
      "Processing record 141 | sombrerete\n",
      "Processing record 142 | touros\n",
      "Processing record 143 | djibo\n",
      "Processing record 144 | lacaron\n",
      "Processing record 145 | chernyshevskiy\n",
      "Processing record 146 | naze\n",
      "Processing record 147 | safaga\n",
      "Processing record 148 | faanui\n",
      "Processing record 149 | klyuchi\n",
      "Processing record 150 | mahebourg\n",
      "Processing record 151 | nelson bay\n",
      "Processing record 152 | faya\n",
      "Processing record 153 | shiraoi\n",
      "Processing record 154 | sokolovo\n",
      "Processing record 155 | kostomuksha\n",
      "Processing record 156 | pontarlier\n",
      "Processing record 157 | general pico\n",
      "Processing record 158 | severo-kurilsk\n",
      "Processing record 159 | muros\n",
      "Processing record 160 | loma bonita\n",
      "Processing record 161 | codrington\n",
      "Processing record 162 | north platte\n",
      "Processing record 163 | vardo\n",
      "Processing record 164 | la ronge\n",
      "Processing record 165 | nizhniy bestyakh\n",
      "Processing record 166 | sofiysk\n",
      "City Not Found\n",
      "Processing record 167 | pangnirtung\n",
      "Processing record 168 | wuwei\n",
      "Processing record 169 | bathsheba\n",
      "Processing record 170 | topolobampo\n",
      "Processing record 171 | buraydah\n",
      "Processing record 172 | mutsamudu\n",
      "City Not Found\n",
      "Processing record 173 | norman wells\n",
      "Processing record 174 | port shepstone\n",
      "Processing record 175 | newport\n",
      "Processing record 176 | punta arenas\n",
      "Processing record 177 | sept-iles\n",
      "Processing record 178 | caernarfon\n",
      "Processing record 179 | illapel\n",
      "Processing record 180 | lorengau\n",
      "Processing record 181 | llangefni\n",
      "Processing record 182 | ca mau\n",
      "Processing record 183 | belaya gora\n",
      "Processing record 184 | constitucion\n",
      "Processing record 185 | xichang\n",
      "Processing record 186 | belushya guba\n",
      "City Not Found\n",
      "Processing record 187 | kiboga\n",
      "Processing record 188 | buqayq\n",
      "City Not Found\n",
      "Processing record 189 | bobo dioulasso\n",
      "Processing record 190 | dezhou\n",
      "Processing record 191 | vestmannaeyjar\n",
      "Processing record 192 | inirida\n",
      "Processing record 193 | souillac\n",
      "Processing record 194 | geraldton\n",
      "Processing record 195 | mangaluru\n",
      "Processing record 196 | ilhabela\n",
      "Processing record 197 | miandoab\n",
      "Processing record 198 | nouadhibou\n",
      "Processing record 199 | narsaq\n",
      "Processing record 200 | mount gambier\n",
      "Processing record 201 | hashtrud\n",
      "Processing record 202 | carutapera\n",
      "Processing record 203 | pishva\n",
      "Processing record 204 | ossora\n",
      "Processing record 205 | birin\n",
      "Processing record 206 | barra patuca\n",
      "Processing record 207 | collie\n",
      "Processing record 208 | haines junction\n",
      "Processing record 209 | mys shmidta\n",
      "City Not Found\n",
      "Processing record 210 | palmer\n",
      "Processing record 211 | senmonorom\n",
      "City Not Found\n",
      "Processing record 212 | benguela\n",
      "Processing record 213 | oranjemund\n",
      "Processing record 214 | xuddur\n",
      "Processing record 215 | tuensang\n",
      "Processing record 216 | liverpool\n",
      "Processing record 217 | mataura\n",
      "Processing record 218 | ibiapina\n",
      "Processing record 219 | thinadhoo\n",
      "Processing record 220 | gonda\n",
      "Processing record 221 | rudbar\n",
      "Processing record 222 | ferrol\n",
      "Processing record 223 | lubao\n",
      "Processing record 224 | havelock\n",
      "Processing record 225 | mitchell\n",
      "Processing record 226 | cavalcante\n",
      "Processing record 227 | solnechnyy\n",
      "Processing record 228 | tarauaca\n",
      "Processing record 229 | baherden\n",
      "Processing record 230 | kiunga\n",
      "Processing record 231 | olafsvik\n",
      "Processing record 232 | necochea\n",
      "Processing record 233 | cap malheureux\n",
      "Processing record 234 | sorong\n",
      "Processing record 235 | awjilah\n",
      "Processing record 236 | upernavik\n",
      "Processing record 237 | kavieng\n"
     ]
    },
    {
     "name": "stdout",
     "output_type": "stream",
     "text": [
      "Processing record 238 | burica\n",
      "City Not Found\n",
      "Processing record 239 | lagoa\n",
      "Processing record 240 | bay roberts\n",
      "Processing record 241 | ust-nera\n",
      "Processing record 242 | pakxan\n",
      "Processing record 243 | sao joao da barra\n",
      "Processing record 244 | mecca\n",
      "Processing record 245 | caravelas\n",
      "Processing record 246 | margate\n",
      "Processing record 247 | samusu\n",
      "City Not Found\n",
      "Processing record 248 | flinders\n",
      "Processing record 249 | podosinovets\n",
      "Processing record 250 | ler\n",
      "Processing record 251 | okhotsk\n",
      "Processing record 252 | zhanaozen\n",
      "Processing record 253 | mayumba\n",
      "Processing record 254 | amazar\n",
      "Processing record 255 | great bend\n",
      "Processing record 256 | esperance\n",
      "Processing record 257 | san cristobal\n",
      "Processing record 258 | altay\n",
      "Processing record 259 | chokurdakh\n",
      "Processing record 260 | padang\n",
      "Processing record 261 | tumannyy\n",
      "City Not Found\n",
      "Processing record 262 | pontianak\n",
      "Processing record 263 | bad salzungen\n",
      "Processing record 264 | lohr\n",
      "Processing record 265 | doka\n",
      "Processing record 266 | butaritari\n",
      "Processing record 267 | albany\n",
      "Processing record 268 | acapulco\n",
      "Processing record 269 | antofagasta\n",
      "Processing record 270 | cochrane\n",
      "Processing record 271 | termoli\n",
      "Processing record 272 | nanortalik\n",
      "Processing record 273 | salinas\n",
      "Processing record 274 | pitimbu\n",
      "Processing record 275 | rodrigues alves\n",
      "Processing record 276 | kodiak\n",
      "Processing record 277 | lafiagi\n",
      "Processing record 278 | torbay\n",
      "Processing record 279 | najran\n",
      "Processing record 280 | valparaiso\n",
      "Processing record 281 | shepsi\n",
      "Processing record 282 | bonavista\n",
      "Processing record 283 | maceio\n",
      "Processing record 284 | kokopo\n",
      "Processing record 285 | longyearbyen\n",
      "Processing record 286 | shangrao\n",
      "Processing record 287 | bodden town\n",
      "Processing record 288 | grindavik\n",
      "Processing record 289 | ayorou\n",
      "Processing record 290 | outram\n",
      "Processing record 291 | caetite\n",
      "Processing record 292 | pisz\n",
      "Processing record 293 | ponnani\n",
      "Processing record 294 | tabou\n",
      "Processing record 295 | oranjestad\n",
      "Processing record 296 | strezhevoy\n",
      "Processing record 297 | te anau\n",
      "Processing record 298 | nikolayevskaya\n",
      "Processing record 299 | charleston\n",
      "Processing record 300 | celica\n",
      "Processing record 301 | kamenka\n",
      "Processing record 302 | vezirkopru\n",
      "Processing record 303 | tiznit\n",
      "Processing record 304 | kruisfontein\n",
      "Processing record 305 | camopi\n",
      "Processing record 306 | attawapiskat\n",
      "City Not Found\n",
      "Processing record 307 | boyolangu\n",
      "Processing record 308 | basoko\n",
      "Processing record 309 | fostoria\n",
      "Processing record 310 | omsukchan\n",
      "Processing record 311 | nago\n",
      "Processing record 312 | fairbanks\n",
      "Processing record 313 | craig\n",
      "Processing record 314 | waipawa\n",
      "Processing record 315 | leicester\n",
      "Processing record 316 | roma\n",
      "Processing record 317 | sola\n",
      "Processing record 318 | mount isa\n",
      "Processing record 319 | sisimiut\n",
      "Processing record 320 | portland\n",
      "Processing record 321 | brus\n",
      "Processing record 322 | thilogne\n",
      "City Not Found\n",
      "Processing record 323 | paamiut\n",
      "Processing record 324 | taolanaro\n",
      "City Not Found\n",
      "Processing record 325 | kontagora\n",
      "Processing record 326 | kinablangan\n",
      "Processing record 327 | kanigoro\n",
      "Processing record 328 | dunedin\n",
      "Processing record 329 | udachnyy\n",
      "Processing record 330 | walvis bay\n",
      "Processing record 331 | hanzhong\n",
      "Processing record 332 | enns\n",
      "Processing record 333 | khormuj\n",
      "City Not Found\n",
      "Processing record 334 | pareora\n",
      "Processing record 335 | imeni poliny osipenko\n",
      "Processing record 336 | sioux lookout\n",
      "Processing record 337 | beringovskiy\n",
      "Processing record 338 | spasskoye\n",
      "Processing record 339 | yuzhno-kurilsk\n",
      "Processing record 340 | palu\n",
      "Processing record 341 | vylgort\n",
      "City Not Found\n",
      "Processing record 342 | pevek\n",
      "Processing record 343 | muisne\n",
      "Processing record 344 | aquiraz\n",
      "Processing record 345 | tarakan\n",
      "Processing record 346 | saravan\n",
      "Processing record 347 | isla vista\n",
      "Processing record 348 | forest hills\n",
      "Processing record 349 | mar del plata\n",
      "Processing record 350 | san joaquin\n",
      "Processing record 351 | jalu\n",
      "Processing record 352 | lavrentiya\n",
      "Processing record 353 | oneonta\n",
      "Processing record 354 | san isidro\n",
      "Processing record 355 | beipiao\n",
      "Processing record 356 | mount pleasant\n",
      "Processing record 357 | warqla\n",
      "City Not Found\n",
      "Processing record 358 | hokitika\n",
      "Processing record 359 | nioro\n",
      "Processing record 360 | dawei\n",
      "Processing record 361 | manakara\n",
      "Processing record 362 | ordzhonikidze\n",
      "Processing record 363 | trairi\n",
      "Processing record 364 | novyy urengoy\n",
      "Processing record 365 | varkaus\n",
      "Processing record 366 | yagodnoye\n",
      "Processing record 367 | dakoro\n",
      "Processing record 368 | port elizabeth\n",
      "Processing record 369 | hay river\n",
      "Processing record 370 | svetlyy\n",
      "Processing record 371 | malanje\n",
      "Processing record 372 | saint-pierre\n",
      "Processing record 373 | langham\n",
      "Processing record 374 | barentsburg\n",
      "City Not Found\n",
      "Processing record 375 | erdenet\n",
      "Processing record 376 | marawi\n",
      "Processing record 377 | sao miguel do oeste\n",
      "City Not Found\n",
      "Processing record 378 | tabiauea\n",
      "City Not Found\n",
      "Processing record 379 | hendek\n",
      "Processing record 380 | hualmay\n",
      "Processing record 381 | kahului\n",
      "Processing record 382 | rio grande\n",
      "Processing record 383 | mezen\n",
      "Processing record 384 | yulara\n",
      "Processing record 385 | akureyri\n",
      "Processing record 386 | susanville\n",
      "Processing record 387 | araguaina\n",
      "Processing record 388 | laiagam\n",
      "City Not Found\n",
      "Processing record 389 | tromso\n",
      "Processing record 390 | gemena\n",
      "Processing record 391 | beaverlodge\n",
      "Processing record 392 | sarai alamgir\n",
      "Processing record 393 | sao filipe\n",
      "Processing record 394 | esso\n",
      "Processing record 395 | tortosa\n",
      "Processing record 396 | sangar\n",
      "Processing record 397 | kaitangata\n",
      "Processing record 398 | port blair\n",
      "Processing record 399 | halifax\n",
      "Processing record 400 | mackay\n",
      "Processing record 401 | hobyo\n",
      "Processing record 402 | atlantic city\n",
      "Processing record 403 | eureka\n",
      "Processing record 404 | tucuma\n",
      "Processing record 405 | warmbad\n",
      "Processing record 406 | kharp\n",
      "Processing record 407 | taunggyi\n",
      "Processing record 408 | cilegon\n",
      "Processing record 409 | lora del rio\n",
      "Processing record 410 | leh\n",
      "Processing record 411 | nunoa\n",
      "Processing record 412 | sarai\n",
      "Processing record 413 | lokosovo\n",
      "Processing record 414 | coari\n",
      "Processing record 415 | nome\n",
      "Processing record 416 | samalaeulu\n",
      "City Not Found\n",
      "Processing record 417 | basco\n",
      "Processing record 418 | inuvik\n",
      "Processing record 419 | cidreira\n",
      "Processing record 420 | mahanoro\n",
      "Processing record 421 | beruwala\n",
      "Processing record 422 | banyumas\n",
      "Processing record 423 | vrede\n",
      "Processing record 424 | puerto princesa\n",
      "Processing record 425 | belyy yar\n",
      "Processing record 426 | osterholz-scharmbeck\n",
      "Processing record 427 | homer\n",
      "Processing record 428 | morgan city\n",
      "Processing record 429 | sibolga\n",
      "Processing record 430 | vangaindrano\n",
      "Processing record 431 | deputatskiy\n",
      "Processing record 432 | chiredzi\n",
      "Processing record 433 | guadalajara\n",
      "Processing record 434 | omboue\n",
      "Processing record 435 | matcha\n",
      "Processing record 436 | gamba\n",
      "Processing record 437 | hebertville\n",
      "City Not Found\n",
      "Processing record 438 | buchanan\n",
      "Processing record 439 | lodja\n",
      "Processing record 440 | celestun\n",
      "Processing record 441 | san quintin\n",
      "Processing record 442 | aksu\n",
      "Processing record 443 | jiuquan\n",
      "Processing record 444 | balimo\n",
      "City Not Found\n",
      "Processing record 445 | kutum\n",
      "Processing record 446 | sebinkarahisar\n",
      "Processing record 447 | cururupu\n",
      "Processing record 448 | sorland\n",
      "Processing record 449 | nicoya\n",
      "Processing record 450 | aksarka\n",
      "Processing record 451 | ouargaye\n",
      "Processing record 452 | polis\n",
      "Processing record 453 | monterey\n",
      "Processing record 454 | san luis\n",
      "Processing record 455 | hasaki\n",
      "Processing record 456 | mumford\n",
      "Processing record 457 | lumeje\n",
      "Processing record 458 | san patricio\n",
      "Processing record 459 | grand gaube\n",
      "Processing record 460 | kerki\n",
      "City Not Found\n",
      "Processing record 461 | rybnaya sloboda\n",
      "Processing record 462 | kosa\n",
      "Processing record 463 | asau\n",
      "Processing record 464 | botiza\n",
      "Processing record 465 | benghazi\n",
      "Processing record 466 | broken hill\n",
      "Processing record 467 | vershino-darasunskiy\n",
      "Processing record 468 | chara\n",
      "Processing record 469 | raga\n",
      "Processing record 470 | saint-denis\n",
      "Processing record 471 | phangnga\n",
      "Processing record 472 | maruoka\n",
      "Processing record 473 | talawdi\n",
      "City Not Found\n",
      "Processing record 474 | tzimol\n",
      "Processing record 475 | kanniyakumari\n",
      "Processing record 476 | balkhash\n",
      "Processing record 477 | pathein\n"
     ]
    },
    {
     "name": "stdout",
     "output_type": "stream",
     "text": [
      "Processing record 478 | lapua\n",
      "Processing record 479 | komatipoort\n",
      "Processing record 480 | ternate\n",
      "Processing record 481 | hunza\n",
      "City Not Found\n",
      "Processing record 482 | kaitong\n",
      "Processing record 483 | moron\n",
      "Processing record 484 | naron\n",
      "Processing record 485 | koslan\n",
      "Processing record 486 | nieuw amsterdam\n",
      "Processing record 487 | kuche\n",
      "City Not Found\n",
      "Processing record 488 | hambantota\n",
      "Processing record 489 | hofn\n",
      "Processing record 490 | tual\n",
      "Processing record 491 | verkhnetulomskiy\n",
      "Processing record 492 | ximei\n",
      "Processing record 493 | mangrol\n",
      "Processing record 494 | tukrah\n",
      "Processing record 495 | kurchum\n",
      "Processing record 496 | katsuura\n",
      "Processing record 497 | klaksvik\n",
      "Processing record 498 | ponta delgada\n",
      "Processing record 499 | tivaouane\n",
      "Processing record 500 | zhanatas\n",
      "City Not Found\n",
      "Processing record 501 | creel\n",
      "Processing record 502 | ambilobe\n",
      "Processing record 503 | falam\n",
      "Processing record 504 | kenora\n",
      "Processing record 505 | ayan\n",
      "Processing record 506 | cayenne\n",
      "Processing record 507 | alofi\n",
      "Processing record 508 | terenga\n",
      "City Not Found\n",
      "Processing record 509 | texiguat\n",
      "Processing record 510 | mitsamiouli\n",
      "Processing record 511 | bilma\n",
      "Processing record 512 | cheuskiny\n",
      "City Not Found\n",
      "Processing record 513 | dudinka\n",
      "Processing record 514 | tikrit\n",
      "Processing record 515 | loandjili\n",
      "Processing record 516 | zatoka\n",
      "Processing record 517 | salekhard\n",
      "Processing record 518 | bukachacha\n",
      "Processing record 519 | dharchula\n",
      "Processing record 520 | prince rupert\n",
      "Processing record 521 | gushikawa\n",
      "Processing record 522 | senno\n",
      "Processing record 523 | dourados\n",
      "Processing record 524 | magadan\n",
      "Processing record 525 | hermanus\n",
      "Processing record 526 | shafranovo\n",
      "Processing record 527 | ostersund\n",
      "Processing record 528 | aklavik\n",
      "Processing record 529 | nantucket\n",
      "Processing record 530 | nevers\n",
      "Processing record 531 | veinticinco de mayo\n",
      "Processing record 532 | pafos\n",
      "Processing record 533 | coahuayana\n",
      "Processing record 534 | nabire\n",
      "Processing record 535 | severomuysk\n",
      "Processing record 536 | porangatu\n",
      "Processing record 537 | perth\n",
      "Processing record 538 | penzance\n",
      "Processing record 539 | kindu\n",
      "Processing record 540 | kumba\n",
      "Processing record 541 | zyryanka\n",
      "Processing record 542 | sambava\n",
      "Processing record 543 | salalah\n",
      "Processing record 544 | rungata\n",
      "City Not Found\n",
      "Processing record 545 | chapleau\n",
      "Processing record 546 | sakakah\n",
      "Processing record 547 | vilcun\n",
      "Processing record 548 | richards bay\n",
      "Processing record 549 | nishihara\n",
      "Processing record 550 | rio gallegos\n",
      "Processing record 551 | verkhnyaya inta\n",
      "Processing record 552 | channel-port aux basques\n",
      "Processing record 553 | khovu-aksy\n",
      "Processing record 554 | kharan\n",
      "Processing record 555 | nyurba\n",
      "Processing record 556 | tongchuan\n",
      "Processing record 557 | kisangani\n",
      "Processing record 558 | marti\n",
      "Processing record 559 | presidente epitacio\n",
      "Processing record 560 | rimbey\n"
     ]
    }
   ],
   "source": [
    "#calls weather data from openweathermap and parses info into dictionary which then appends to a list 'to_df'\n",
    "to_df = []\n",
    "to_keep = ['main','clouds','wind','sys','coord','name','dt']\n",
    "broken_cities = []\n",
    "i = 0\n",
    "print(\"\"\"Beginning Data Retrieval     \n",
    "-----------------------------\n",
    "        \"\"\")\n",
    "for city in unique_cities['nearest_city_name']:\n",
    "    try:\n",
    "        \n",
    "        city_name = city\n",
    "        base = 'http://api.openweathermap.org/data/2.5/weather?q={}&units=imperial&appid={}'.format(city_name,weather_api_key)\n",
    "        print(f'Processing record {i} | {city}')\n",
    "        reBuild = {x : requests.get(base).json()[x] for x in to_keep}\n",
    "        reBuild['humidity'] = reBuild['main']['humidity']\n",
    "        reBuild['temp_max'] = reBuild['main']['temp_max']\n",
    "        reBuild['country'] = reBuild['sys']['country']\n",
    "        reBuild['clouds'] = reBuild['clouds']['all']\n",
    "        reBuild['wind'] = reBuild['wind']['speed']\n",
    "        reBuild['lng'],reBuild['lat'] = reBuild.pop('coord').values()\n",
    "        reBuild['Date'] = datetime.utcfromtimestamp(reBuild['dt']).strftime(\"%m/%d/%Y\")\n",
    "        del reBuild['sys'],reBuild['main'],reBuild['dt']\n",
    "        to_df.append(reBuild)\n",
    "        i+=1\n",
    "    except KeyError:\n",
    "        broken_cities.append(city)\n",
    "        i+=1\n",
    "        print('City Not Found')\n",
    "\n",
    "    \n"
   ]
  },
  {
   "cell_type": "code",
   "execution_count": 4,
   "metadata": {},
   "outputs": [
    {
     "data": {
      "text/html": [
       "<div>\n",
       "<style scoped>\n",
       "    .dataframe tbody tr th:only-of-type {\n",
       "        vertical-align: middle;\n",
       "    }\n",
       "\n",
       "    .dataframe tbody tr th {\n",
       "        vertical-align: top;\n",
       "    }\n",
       "\n",
       "    .dataframe thead th {\n",
       "        text-align: right;\n",
       "    }\n",
       "</style>\n",
       "<table border=\"1\" class=\"dataframe\">\n",
       "  <thead>\n",
       "    <tr style=\"text-align: right;\">\n",
       "      <th></th>\n",
       "      <th>Name</th>\n",
       "      <th>Country</th>\n",
       "      <th>Lng</th>\n",
       "      <th>Lat</th>\n",
       "      <th>Humidity (%)</th>\n",
       "      <th>Wind (mph)</th>\n",
       "      <th>Clouds (%)</th>\n",
       "      <th>Max Temp (F)</th>\n",
       "      <th>Date</th>\n",
       "    </tr>\n",
       "  </thead>\n",
       "  <tbody>\n",
       "    <tr>\n",
       "      <th>0</th>\n",
       "      <td>Clyde River</td>\n",
       "      <td>CA</td>\n",
       "      <td>-68.59</td>\n",
       "      <td>70.47</td>\n",
       "      <td>74</td>\n",
       "      <td>29.97</td>\n",
       "      <td>90</td>\n",
       "      <td>37.40</td>\n",
       "      <td>10/18/2020</td>\n",
       "    </tr>\n",
       "    <tr>\n",
       "      <th>1</th>\n",
       "      <td>Saint-Philippe</td>\n",
       "      <td>RE</td>\n",
       "      <td>55.77</td>\n",
       "      <td>-21.36</td>\n",
       "      <td>64</td>\n",
       "      <td>5.82</td>\n",
       "      <td>38</td>\n",
       "      <td>69.80</td>\n",
       "      <td>10/18/2020</td>\n",
       "    </tr>\n",
       "    <tr>\n",
       "      <th>2</th>\n",
       "      <td>East London</td>\n",
       "      <td>ZA</td>\n",
       "      <td>27.91</td>\n",
       "      <td>-33.02</td>\n",
       "      <td>79</td>\n",
       "      <td>11.45</td>\n",
       "      <td>100</td>\n",
       "      <td>65.01</td>\n",
       "      <td>10/18/2020</td>\n",
       "    </tr>\n",
       "    <tr>\n",
       "      <th>3</th>\n",
       "      <td>Puerto Ayora</td>\n",
       "      <td>EC</td>\n",
       "      <td>-90.35</td>\n",
       "      <td>-0.74</td>\n",
       "      <td>85</td>\n",
       "      <td>5.01</td>\n",
       "      <td>96</td>\n",
       "      <td>71.01</td>\n",
       "      <td>10/18/2020</td>\n",
       "    </tr>\n",
       "    <tr>\n",
       "      <th>4</th>\n",
       "      <td>Bredasdorp</td>\n",
       "      <td>ZA</td>\n",
       "      <td>20.04</td>\n",
       "      <td>-34.53</td>\n",
       "      <td>93</td>\n",
       "      <td>4.70</td>\n",
       "      <td>100</td>\n",
       "      <td>53.60</td>\n",
       "      <td>10/18/2020</td>\n",
       "    </tr>\n",
       "    <tr>\n",
       "      <th>...</th>\n",
       "      <td>...</td>\n",
       "      <td>...</td>\n",
       "      <td>...</td>\n",
       "      <td>...</td>\n",
       "      <td>...</td>\n",
       "      <td>...</td>\n",
       "      <td>...</td>\n",
       "      <td>...</td>\n",
       "      <td>...</td>\n",
       "    </tr>\n",
       "    <tr>\n",
       "      <th>516</th>\n",
       "      <td>Tongchuanshi</td>\n",
       "      <td>CN</td>\n",
       "      <td>109.09</td>\n",
       "      <td>35.08</td>\n",
       "      <td>37</td>\n",
       "      <td>1.12</td>\n",
       "      <td>61</td>\n",
       "      <td>58.87</td>\n",
       "      <td>10/18/2020</td>\n",
       "    </tr>\n",
       "    <tr>\n",
       "      <th>517</th>\n",
       "      <td>Kisangani</td>\n",
       "      <td>CD</td>\n",
       "      <td>25.20</td>\n",
       "      <td>0.52</td>\n",
       "      <td>97</td>\n",
       "      <td>1.21</td>\n",
       "      <td>100</td>\n",
       "      <td>69.66</td>\n",
       "      <td>10/18/2020</td>\n",
       "    </tr>\n",
       "    <tr>\n",
       "      <th>518</th>\n",
       "      <td>Martí</td>\n",
       "      <td>CU</td>\n",
       "      <td>-80.92</td>\n",
       "      <td>22.95</td>\n",
       "      <td>94</td>\n",
       "      <td>5.82</td>\n",
       "      <td>40</td>\n",
       "      <td>75.20</td>\n",
       "      <td>10/18/2020</td>\n",
       "    </tr>\n",
       "    <tr>\n",
       "      <th>519</th>\n",
       "      <td>Presidente Epitácio</td>\n",
       "      <td>BR</td>\n",
       "      <td>-52.12</td>\n",
       "      <td>-21.76</td>\n",
       "      <td>50</td>\n",
       "      <td>11.34</td>\n",
       "      <td>94</td>\n",
       "      <td>76.01</td>\n",
       "      <td>10/18/2020</td>\n",
       "    </tr>\n",
       "    <tr>\n",
       "      <th>520</th>\n",
       "      <td>Rimbey</td>\n",
       "      <td>CA</td>\n",
       "      <td>-114.24</td>\n",
       "      <td>52.63</td>\n",
       "      <td>72</td>\n",
       "      <td>12.75</td>\n",
       "      <td>75</td>\n",
       "      <td>21.00</td>\n",
       "      <td>10/18/2020</td>\n",
       "    </tr>\n",
       "  </tbody>\n",
       "</table>\n",
       "<p>521 rows × 9 columns</p>\n",
       "</div>"
      ],
      "text/plain": [
       "                    Name Country     Lng    Lat  Humidity (%)  Wind (mph)  \\\n",
       "0            Clyde River      CA  -68.59  70.47            74       29.97   \n",
       "1         Saint-Philippe      RE   55.77 -21.36            64        5.82   \n",
       "2            East London      ZA   27.91 -33.02            79       11.45   \n",
       "3           Puerto Ayora      EC  -90.35  -0.74            85        5.01   \n",
       "4             Bredasdorp      ZA   20.04 -34.53            93        4.70   \n",
       "..                   ...     ...     ...    ...           ...         ...   \n",
       "516         Tongchuanshi      CN  109.09  35.08            37        1.12   \n",
       "517            Kisangani      CD   25.20   0.52            97        1.21   \n",
       "518                Martí      CU  -80.92  22.95            94        5.82   \n",
       "519  Presidente Epitácio      BR  -52.12 -21.76            50       11.34   \n",
       "520               Rimbey      CA -114.24  52.63            72       12.75   \n",
       "\n",
       "     Clouds (%)  Max Temp (F)        Date  \n",
       "0            90         37.40  10/18/2020  \n",
       "1            38         69.80  10/18/2020  \n",
       "2           100         65.01  10/18/2020  \n",
       "3            96         71.01  10/18/2020  \n",
       "4           100         53.60  10/18/2020  \n",
       "..          ...           ...         ...  \n",
       "516          61         58.87  10/18/2020  \n",
       "517         100         69.66  10/18/2020  \n",
       "518          40         75.20  10/18/2020  \n",
       "519          94         76.01  10/18/2020  \n",
       "520          75         21.00  10/18/2020  \n",
       "\n",
       "[521 rows x 9 columns]"
      ]
     },
     "execution_count": 4,
     "metadata": {},
     "output_type": "execute_result"
    }
   ],
   "source": [
    "# create dataframe out of parsed data and saves to csv\n",
    "ta_daa = pd.DataFrame(to_df)[['name','country','lng','lat','humidity','wind','clouds','temp_max','Date']]\n",
    "\n",
    "ta_daa = ta_daa.rename(columns = {\"name\":'Name',\n",
    "                                  'country':'Country',\n",
    "                                 'lng':'Lng',\n",
    "                                 'lat':'Lat',\n",
    "                                 'humidity':'Humidity (%)',\n",
    "                                 'wind':'Wind (mph)',\n",
    "                                 'temp_max':'Max Temp (F)',\n",
    "                                 'clouds':'Clouds (%)'})\n",
    "ta_daa.to_csv('finally.csv')\n",
    "ta_daa"
   ]
  },
  {
   "cell_type": "code",
   "execution_count": 11,
   "metadata": {},
   "outputs": [],
   "source": [
    "#function that creates graph of selected city metric vs latitude, places regression fit, and saves as png\n",
    "def pulled_pork(y,hem = None,reg = False):\n",
    "    f_name = y.name + \" \"\n",
    "    if hem == 'north':\n",
    "        x = ta_daa[ta_daa['Lat'] >= 0]\n",
    "        x = x['Lat']\n",
    "        y = y.loc[ta_daa['Lat'] >= 0]\n",
    "        f_name += 'n'\n",
    "    elif hem == 'south':\n",
    "        x = ta_daa[ta_daa['Lat'] <= 0]\n",
    "        x = x['Lat']\n",
    "        y = y.loc[ta_daa['Lat'] <= 0]\n",
    "        f_name += 's'\n",
    "    else:\n",
    "        x = ta_daa['Lat']\n",
    "        f_name += 'w'\n",
    "    \n",
    "    if reg == True:\n",
    "        slope, intercept, rvalue, pvalue, stderr = sts.linregress(x,y)\n",
    "        line = f'y = {round(slope,2)}*x + {round(intercept,2)}'\n",
    "        plt.plot(x, slope*x + intercept, color = 'red')\n",
    "        plt.annotate(line,(10,10),xycoords = 'figure pixels',color = 'red')\n",
    "        print(line)\n",
    "        print('The R-Squared is:',rvalue**2)\n",
    "        f_name += 'reg'\n",
    "    else:\n",
    "        f_name += 'noreg'\n",
    "        \n",
    "    plt.scatter(x,y)\n",
    "    plt.xlabel('{}'.format(x.name.upper()))\n",
    "    plt.ylabel('{}'.format(y.name.upper()))\n",
    "    plt.title('{} vs. {} Plot'.format(x.name.upper(),y.name.upper()))\n",
    "    plt.savefig(f'{f_name}.png')"
   ]
  },
  {
   "cell_type": "markdown",
   "metadata": {},
   "source": [
    "## Latitude vs. Temperature Plot"
   ]
  },
  {
   "cell_type": "code",
   "execution_count": 12,
   "metadata": {},
   "outputs": [
    {
     "data": {
      "image/png": "[encoded data removed]",
      "text/plain": [
       "<Figure size 432x288 with 1 Axes>"
      ]
     },
     "metadata": {
      "needs_background": "light"
     },
     "output_type": "display_data"
    }
   ],
   "source": [
    "pulled_pork(ta_daa['Max Temp (F)'])"
   ]
  },
  {
   "cell_type": "markdown",
   "metadata": {},
   "source": [
    "## Latitude vs. Humidity Plot"
   ]
  },
  {
   "cell_type": "code",
   "execution_count": 13,
   "metadata": {},
   "outputs": [
    {
     "data": {
      "image/png": "[encoded data removed]",
      "text/plain": [
       "<Figure size 432x288 with 1 Axes>"
      ]
     },
     "metadata": {
      "needs_background": "light"
     },
     "output_type": "display_data"
    }
   ],
   "source": [
    "pulled_pork(ta_daa['Humidity (%)'])"
   ]
  },
  {
   "cell_type": "markdown",
   "metadata": {},
   "source": [
    "## Latitude vs. Cloudiness Plot"
   ]
  },
  {
   "cell_type": "code",
   "execution_count": 14,
   "metadata": {},
   "outputs": [
    {
     "data": {
      "image/png": "[encoded data removed]",
      "text/plain": [
       "<Figure size 432x288 with 1 Axes>"
      ]
     },
     "metadata": {
      "needs_background": "light"
     },
     "output_type": "display_data"
    }
   ],
   "source": [
    "pulled_pork(ta_daa['Clouds (%)'])"
   ]
  },
  {
   "cell_type": "markdown",
   "metadata": {},
   "source": [
    "## Latitude vs. Wind Speed Plot"
   ]
  },
  {
   "cell_type": "code",
   "execution_count": 15,
   "metadata": {},
   "outputs": [
    {
     "data": {
      "image/png": "[encoded data removed]",
      "text/plain": [
       "<Figure size 432x288 with 1 Axes>"
      ]
     },
     "metadata": {
      "needs_background": "light"
     },
     "output_type": "display_data"
    }
   ],
   "source": [
    "pulled_pork(ta_daa['Wind (mph)'])"
   ]
  },
  {
   "cell_type": "markdown",
   "metadata": {},
   "source": [
    "## Linear Regression"
   ]
  },
  {
   "cell_type": "markdown",
   "metadata": {},
   "source": [
    "####  Northern Hemisphere - Max Temp vs. Latitude Linear Regression"
   ]
  },
  {
   "cell_type": "code",
   "execution_count": 16,
   "metadata": {},
   "outputs": [
    {
     "name": "stdout",
     "output_type": "stream",
     "text": [
      "y = -0.9*x + 89.6\n",
      "The R-Squared is: 0.7779544485910403\n"
     ]
    },
    {
     "data": {
      "image/png": "[encoded data removed]",
      "text/plain": [
       "<Figure size 432x288 with 1 Axes>"
      ]
     },
     "metadata": {
      "needs_background": "light"
     },
     "output_type": "display_data"
    }
   ],
   "source": [
    "pulled_pork(ta_daa['Max Temp (F)'],hem = 'north', reg = True)"
   ]
  },
  {
   "cell_type": "markdown",
   "metadata": {},
   "source": [
    "####  Southern Hemisphere - Max Temp vs. Latitude Linear Regression"
   ]
  },
  {
   "cell_type": "code",
   "execution_count": 17,
   "metadata": {},
   "outputs": [
    {
     "name": "stdout",
     "output_type": "stream",
     "text": [
      "y = 0.51*x + 80.14\n",
      "The R-Squared is: 0.44278983612743933\n"
     ]
    },
    {
     "data": {
      "image/png": "[encoded data removed]",
      "text/plain": [
       "<Figure size 432x288 with 1 Axes>"
      ]
     },
     "metadata": {
      "needs_background": "light"
     },
     "output_type": "display_data"
    }
   ],
   "source": [
    "pulled_pork(ta_daa['Max Temp (F)'], hem = 'south', reg = True)"
   ]
  },
  {
   "cell_type": "markdown",
   "metadata": {},
   "source": [
    "####  Northern Hemisphere - Humidity (%) vs. Latitude Linear Regression"
   ]
  },
  {
   "cell_type": "code",
   "execution_count": 18,
   "metadata": {},
   "outputs": [
    {
     "name": "stdout",
     "output_type": "stream",
     "text": [
      "y = 0.18*x + 66.6\n",
      "The R-Squared is: 0.029933075815218563\n"
     ]
    },
    {
     "data": {
      "image/png": "[encoded data removed]",
      "text/plain": [
       "<Figure size 432x288 with 1 Axes>"
      ]
     },
     "metadata": {
      "needs_background": "light"
     },
     "output_type": "display_data"
    }
   ],
   "source": [
    "pulled_pork(ta_daa['Humidity (%)'], hem = 'north', reg = True)\n"
   ]
  },
  {
   "cell_type": "markdown",
   "metadata": {},
   "source": [
    "####  Southern Hemisphere - Humidity (%) vs. Latitude Linear Regression"
   ]
  },
  {
   "cell_type": "code",
   "execution_count": 19,
   "metadata": {},
   "outputs": [
    {
     "name": "stdout",
     "output_type": "stream",
     "text": [
      "y = 0.21*x + 77.69\n",
      "The R-Squared is: 0.029463487832160577\n"
     ]
    },
    {
     "data": {
      "image/png": "[encoded data removed]",
      "text/plain": [
       "<Figure size 432x288 with 1 Axes>"
      ]
     },
     "metadata": {
      "needs_background": "light"
     },
     "output_type": "display_data"
    }
   ],
   "source": [
    "pulled_pork(ta_daa['Humidity (%)'], hem = 'south', reg = True)"
   ]
  },
  {
   "cell_type": "markdown",
   "metadata": {},
   "source": [
    "####  Northern Hemisphere - Cloudiness (%) vs. Latitude Linear Regression"
   ]
  },
  {
   "cell_type": "code",
   "execution_count": 20,
   "metadata": {},
   "outputs": [
    {
     "name": "stdout",
     "output_type": "stream",
     "text": [
      "y = 0.34*x + 38.23\n",
      "The R-Squared is: 0.02927857064304076\n"
     ]
    },
    {
     "data": {
      "image/png": "[encoded data removed]",
      "text/plain": [
       "<Figure size 432x288 with 1 Axes>"
      ]
     },
     "metadata": {
      "needs_background": "light"
     },
     "output_type": "display_data"
    }
   ],
   "source": [
    "pulled_pork(ta_daa['Clouds (%)'], hem = 'north', reg = True)"
   ]
  },
  {
   "cell_type": "markdown",
   "metadata": {},
   "source": [
    "####  Southern Hemisphere - Cloudiness (%) vs. Latitude Linear Regression"
   ]
  },
  {
   "cell_type": "code",
   "execution_count": 21,
   "metadata": {},
   "outputs": [
    {
     "name": "stdout",
     "output_type": "stream",
     "text": [
      "y = 0.01*x + 51.28\n",
      "The R-Squared is: 5.501068657593036e-06\n"
     ]
    },
    {
     "data": {
      "image/png": "[encoded data removed]",
      "text/plain": [
       "<Figure size 432x288 with 1 Axes>"
      ]
     },
     "metadata": {
      "needs_background": "light"
     },
     "output_type": "display_data"
    }
   ],
   "source": [
    "pulled_pork(ta_daa['Clouds (%)'], hem = 'south', reg = True)"
   ]
  },
  {
   "cell_type": "markdown",
   "metadata": {},
   "source": [
    "####  Northern Hemisphere - Wind Speed (mph) vs. Latitude Linear Regression"
   ]
  },
  {
   "cell_type": "code",
   "execution_count": 22,
   "metadata": {},
   "outputs": [
    {
     "name": "stdout",
     "output_type": "stream",
     "text": [
      "y = 0.04*x + 6.16\n",
      "The R-Squared is: 0.018983018509280386\n"
     ]
    },
    {
     "data": {
      "image/png": "[encoded data removed]",
      "text/plain": [
       "<Figure size 432x288 with 1 Axes>"
      ]
     },
     "metadata": {
      "needs_background": "light"
     },
     "output_type": "display_data"
    }
   ],
   "source": [
    "pulled_pork(ta_daa['Wind (mph)'], hem = 'north', reg = True)"
   ]
  },
  {
   "cell_type": "markdown",
   "metadata": {},
   "source": [
    "####  Southern Hemisphere - Wind Speed (mph) vs. Latitude Linear Regression"
   ]
  },
  {
   "cell_type": "code",
   "execution_count": 23,
   "metadata": {},
   "outputs": [
    {
     "name": "stdout",
     "output_type": "stream",
     "text": [
      "y = -0.07*x + 6.13\n",
      "The R-Squared is: 0.03370657575719096\n"
     ]
    },
    {
     "data": {
      "image/png": "[encoded data removed]",
      "text/plain": [
       "<Figure size 432x288 with 1 Axes>"
      ]
     },
     "metadata": {
      "needs_background": "light"
     },
     "output_type": "display_data"
    }
   ],
   "source": [
    "pulled_pork(ta_daa['Wind (mph)'], hem = 'south', reg = True)"
   ]
  }
 ],
 "metadata": {
  "anaconda-cloud": {},
  "kernel_info": {
   "name": "python3"
  },
  "kernelspec": {
   "display_name": "Python 3",
   "language": "python",
   "name": "python3"
  },
  "language_info": {
   "codemirror_mode": {
    "name": "ipython",
    "version": 3
   },
   "file_extension": ".py",
   "mimetype": "text/x-python",
   "name": "python",
   "nbconvert_exporter": "python",
   "pygments_lexer": "ipython3",
   "version": "3.7.6"
  },
  "latex_envs": {
   "LaTeX_envs_menu_present": true,
   "autoclose": false,
   "autocomplete": true,
   "bibliofile": "biblio.bib",
   "cite_by": "apalike",
   "current_citInitial": 1,
   "eqLabelWithNumbers": true,
   "eqNumInitial": 1,
   "hotkeys": {
    "equation": "Ctrl-E",
    "itemize": "Ctrl-I"
   },
   "labels_anchors": false,
   "latex_user_defs": false,
   "report_style_numbering": false,
   "user_envs_cfg": false
  },
  "nteract": {
   "version": "0.12.3"
  }
 },
 "nbformat": 4,
 "nbformat_minor": 4
}
